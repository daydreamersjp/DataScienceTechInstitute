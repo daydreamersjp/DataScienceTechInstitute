{
 "cells": [
  {
   "cell_type": "code",
   "execution_count": 10,
   "metadata": {},
   "outputs": [],
   "source": [
    "import scipy as sp\n",
    "import numpy as np\n",
    "import matplotlib.pyplot as plt"
   ]
  },
  {
   "cell_type": "markdown",
   "metadata": {},
   "source": [
    "### Exercise 1"
   ]
  },
  {
   "cell_type": "code",
   "execution_count": 2,
   "metadata": {},
   "outputs": [],
   "source": [
    "def fitnessFunction(v):\n",
    "    return (1+sp.cos(0.04*v)**2) * (sp.exp(-v**2/20000))"
   ]
  },
  {
   "cell_type": "code",
   "execution_count": 3,
   "metadata": {},
   "outputs": [
    {
     "data": {
      "text/plain": [
       "1.9983009356066115"
      ]
     },
     "execution_count": 3,
     "metadata": {},
     "output_type": "execute_result"
    }
   ],
   "source": [
    "#test\n",
    "fitnessFunction(1)"
   ]
  },
  {
   "cell_type": "markdown",
   "metadata": {},
   "source": [
    "### Exercise 2"
   ]
  },
  {
   "cell_type": "code",
   "execution_count": 11,
   "metadata": {},
   "outputs": [
    {
     "data": {
      "image/png": "[encoded data removed]",
      "text/plain": [
       "<Figure size 432x288 with 1 Axes>"
      ]
     },
     "metadata": {
      "needs_background": "light"
     },
     "output_type": "display_data"
    }
   ],
   "source": [
    "xsim = np.arange(-500,500)\n",
    "ysim = fitnessFunction(xsim)\n",
    "plt.plot(xsim,ysim)\n",
    "plt.show()"
   ]
  },
  {
   "cell_type": "code",
   "execution_count": 49,
   "metadata": {},
   "outputs": [
    {
     "data": {
      "text/plain": [
       "2.0"
      ]
     },
     "execution_count": 49,
     "metadata": {},
     "output_type": "execute_result"
    }
   ],
   "source": [
    "fitnessFunction(0)"
   ]
  },
  {
   "cell_type": "markdown",
   "metadata": {},
   "source": [
    "### Exercise 3 & 4 &5"
   ]
  },
  {
   "cell_type": "code",
   "execution_count": 13,
   "metadata": {},
   "outputs": [],
   "source": [
    "import numpy.random as rn\n",
    "import matplotlib as mpl\n",
    "from scipy import optimize"
   ]
  },
  {
   "cell_type": "code",
   "execution_count": 61,
   "metadata": {},
   "outputs": [],
   "source": [
    "# Code referenced from:\n",
    "# https://perso.crans.org/besson/publis/notebooks/Simulated_annealing_in_Python.html\n",
    "\n",
    "def annealing(random_start,\n",
    "              cost_function,\n",
    "              random_neighbour,\n",
    "              acceptance,\n",
    "              temperature,\n",
    "              maxsteps=1000,\n",
    "              debug=True):\n",
    "    \"\"\" Optimize the black-box function 'cost_function' with the simulated annealing algorithm.\"\"\"\n",
    "    state = random_start()\n",
    "    cost = cost_function(state)\n",
    "    states, costs = [state], [cost]\n",
    "    for step in range(maxsteps):\n",
    "        fraction = step / float(maxsteps)\n",
    "        T = temperature(fraction)\n",
    "#         T = temperature(step)\n",
    "        new_state = random_neighbour(state, fraction)\n",
    "        new_cost = cost_function(new_state)\n",
    "        if debug: print(\"Step #{:>2}/{:>2} : T = {:>4.3g}, state = {:>4.3g}, cost = {:>4.3g}, new_state = {:>4.3g}, new_cost = {:>4.3g} ...\".format(step, maxsteps, T, state, cost, new_state, new_cost))\n",
    "        if acceptance_probability(cost, new_cost, T) > rn.random():\n",
    "            state, cost = new_state, new_cost\n",
    "            states.append(state)\n",
    "            costs.append(cost)\n",
    "            # print(\"  ==> Accept it!\")\n",
    "        # else:\n",
    "        #    print(\"  ==> Reject it...\")\n",
    "    return state, cost_function(state), states, costs\n"
   ]
  },
  {
   "cell_type": "code",
   "execution_count": 296,
   "metadata": {},
   "outputs": [],
   "source": [
    "interval = (-500, 500)\n",
    "\n",
    "# def f(x):\n",
    "#     \"\"\" Function to minimize.\"\"\"\n",
    "#     return x ** 2\n",
    "\n",
    "def clip(x):\n",
    "    \"\"\" Force x to be in the interval.\"\"\"\n",
    "    a, b = interval\n",
    "    return max(min(x, b), a)\n",
    "\n",
    "def random_start():\n",
    "    \"\"\" Random point in the interval.\"\"\"\n",
    "    a, b = interval\n",
    "#     return a + (b - a) * rn.random_sample()\n",
    "    return X0\n",
    "\n",
    "def cost_function(x):\n",
    "    \"\"\" Cost of x = f(x).\"\"\"\n",
    "    return -fitnessFunction(x)\n",
    "\n",
    "def random_neighbour(x, fraction=1):\n",
    "    \"\"\"Move a little bit x, from the left or the right.\"\"\"\n",
    "    amplitude = (max(interval) - min(interval)) * fraction / 10\n",
    "    delta = (-amplitude/2.) + amplitude * rn.random_sample()\n",
    "    return clip(x + delta)\n",
    "\n",
    "def acceptance_probability(cost, new_cost, temperature):\n",
    "    if new_cost < cost:\n",
    "#         print(\"    - Acceptance probabilty = 1 as new_cost = {} < cost = {}...\".format(new_cost, cost))\n",
    "#         print(\"    - Acceptance probabilty = 1\")\n",
    "        return 1\n",
    "    else:\n",
    "        p = np.exp(- (new_cost - cost) / temperature * 100 ) ## Adjusted by multiplying 100 from the original logic\n",
    "#         print(\"    - Acceptance probabilty = {:.3g}...\".format(p))\n",
    "        return p\n",
    "    \n",
    "def temperature(fraction):\n",
    "# def temperature(step):\n",
    "    \"\"\" Example of temperature dicreasing as the process goes on.\"\"\"\n",
    "    return max(0.01, min(1, 1 - fraction)*T0)\n",
    "#     return T0 * 0.95**step"
   ]
  },
  {
   "cell_type": "markdown",
   "metadata": {},
   "source": [
    "MEMO: The order of temperature has to be reasonable compared to the order of cost, otherwise the probability of acceptance can be too high or too low."
   ]
  },
  {
   "cell_type": "code",
   "execution_count": 297,
   "metadata": {
    "scrolled": true
   },
   "outputs": [
    {
     "name": "stdout",
     "output_type": "stream",
     "text": [
      "Step # 0/30 : T =   10, state =  250, cost = -0.0749, new_state =  250, new_cost = -0.0749 ...\n",
      "Step # 1/30 : T = 9.67, state =  250, cost = -0.0749, new_state =  248, new_cost = -0.0807 ...\n",
      "Step # 2/30 : T = 9.33, state =  248, cost = -0.0807, new_state =  245, new_cost = -0.0924 ...\n",
      "Step # 3/30 : T =    9, state =  245, cost = -0.0924, new_state =  244, new_cost = -0.095 ...\n",
      "Step # 4/30 : T = 8.67, state =  244, cost = -0.095, new_state =  250, new_cost = -0.0755 ...\n",
      "Step # 5/30 : T = 8.33, state =  250, cost = -0.0755, new_state =  254, new_cost = -0.0604 ...\n",
      "Step # 6/30 : T =    8, state =  254, cost = -0.0604, new_state =  246, new_cost = -0.0879 ...\n",
      "Step # 7/30 : T = 7.67, state =  246, cost = -0.0879, new_state =  237, new_cost = -0.121 ...\n",
      "Step # 8/30 : T = 7.33, state =  237, cost = -0.121, new_state =  228, new_cost = -0.142 ...\n",
      "Step # 9/30 : T =    7, state =  228, cost = -0.142, new_state =  229, new_cost = -0.141 ...\n",
      "Step #10/30 : T = 6.67, state =  229, cost = -0.141, new_state =  215, new_cost = -0.145 ...\n",
      "Step #11/30 : T = 6.33, state =  215, cost = -0.145, new_state =  198, new_cost = -0.142 ...\n",
      "Step #12/30 : T =    6, state =  198, cost = -0.142, new_state =  206, new_cost = -0.137 ...\n",
      "Step #13/30 : T = 5.67, state =  206, cost = -0.137, new_state =  226, new_cost = -0.144 ...\n",
      "Step #14/30 : T = 5.33, state =  226, cost = -0.144, new_state =  203, new_cost = -0.136 ...\n",
      "Step #15/30 : T =    5, state =  203, cost = -0.136, new_state =  208, new_cost = -0.138 ...\n",
      "Step #16/30 : T = 4.67, state =  208, cost = -0.138, new_state =  212, new_cost = -0.142 ...\n",
      "Step #17/30 : T = 4.33, state =  212, cost = -0.142, new_state =  224, new_cost = -0.147 ...\n",
      "Step #18/30 : T =    4, state =  224, cost = -0.147, new_state =  224, new_cost = -0.147 ...\n",
      "Step #19/30 : T = 3.67, state =  224, cost = -0.147, new_state =  212, new_cost = -0.142 ...\n",
      "Step #20/30 : T = 3.33, state =  212, cost = -0.142, new_state =  195, new_cost = -0.148 ...\n",
      "Step #21/30 : T =    3, state =  195, cost = -0.148, new_state =  197, new_cost = -0.143 ...\n",
      "Step #22/30 : T = 2.67, state =  197, cost = -0.143, new_state =  216, new_cost = -0.146 ...\n",
      "Step #23/30 : T = 2.33, state =  216, cost = -0.146, new_state =  180, new_cost = -0.274 ...\n",
      "Step #24/30 : T =    2, state =  180, cost = -0.274, new_state =  170, new_cost = -0.413 ...\n",
      "Step #25/30 : T = 1.67, state =  170, cost = -0.413, new_state =  132, new_cost = -0.54 ...\n",
      "Step #26/30 : T = 1.33, state =  132, cost = -0.54, new_state =  133, new_cost = -0.549 ...\n",
      "Step #27/30 : T =    1, state =  133, cost = -0.549, new_state =  128, new_cost = -0.507 ...\n",
      "Step #28/30 : T = 0.667, state =  133, cost = -0.549, new_state =  121, new_cost = -0.488 ...\n",
      "Step #29/30 : T = 0.333, state =  133, cost = -0.549, new_state = 87.4, new_cost = -1.28 ...\n"
     ]
    }
   ],
   "source": [
    "X0, T0 = 250, 10\n",
    "annealing(random_start, cost_function, random_neighbour, acceptance_probability, temperature, maxsteps=30, debug=True);"
   ]
  },
  {
   "cell_type": "code",
   "execution_count": 298,
   "metadata": {},
   "outputs": [
    {
     "name": "stdout",
     "output_type": "stream",
     "text": [
      "Optimized x value =  75.28381\n",
      "Optimized fitnessFunction value =  1.49376\n"
     ]
    }
   ],
   "source": [
    "rn.seed(1111)\n",
    "X0, T0 = 250, 10\n",
    "state, c, states, costs = annealing(random_start, cost_function, random_neighbour, acceptance_probability, temperature, maxsteps=1000, debug=False)\n",
    "\n",
    "print('Optimized x value = ',round(state,5))\n",
    "print('Optimized fitnessFunction value = ', round(-c,5))\n",
    "# print(costs)"
   ]
  },
  {
   "cell_type": "code",
   "execution_count": 299,
   "metadata": {},
   "outputs": [],
   "source": [
    "def see_annealing(states, costs):\n",
    "    plt.figure()\n",
    "    plt.suptitle(\"Evolution of states and costs of the simulated annealing\")\n",
    "    plt.subplot(121)\n",
    "    plt.plot(states, 'r')\n",
    "    plt.title(\"X\")\n",
    "    plt.subplot(122)\n",
    "    plt.plot(costs, 'b')\n",
    "    plt.title(\"fitnessFunction\")\n",
    "    plt.show()"
   ]
  },
  {
   "cell_type": "code",
   "execution_count": 300,
   "metadata": {},
   "outputs": [
    {
     "data": {
      "image/png": "[encoded data removed]",
      "text/plain": [
       "<Figure size 432x288 with 2 Axes>"
      ]
     },
     "metadata": {
      "needs_background": "light"
     },
     "output_type": "display_data"
    }
   ],
   "source": [
    "see_annealing(states, [-c for c in costs])"
   ]
  },
  {
   "cell_type": "markdown",
   "metadata": {},
   "source": [
    "Report this temperature and explain its significance in terms of the relationship between the search radius and the dimensions of the width of the fitness curve:\n",
    "\n",
    "==> \n",
    "\n",
    "Search radius needs to be larger enough to go beyond the width of local peak, but too large search radius will harm because it makes a higher possibility to go backward to worse (smaller) fitness value."
   ]
  },
  {
   "cell_type": "markdown",
   "metadata": {},
   "source": [
    "#### Explore the initial temperature which finds the peak about 90% of the time."
   ]
  },
  {
   "cell_type": "code",
   "execution_count": 301,
   "metadata": {},
   "outputs": [],
   "source": [
    "import time"
   ]
  },
  {
   "cell_type": "code",
   "execution_count": 302,
   "metadata": {},
   "outputs": [],
   "source": [
    "# Repeat the annealing 1000 times and records the last fitnessFunction value\n",
    "def simulateAnnealing(X0 = 250, T0 = 10, seed = 1111, sims = 100):\n",
    "    time0 = time.time()\n",
    "    res = []\n",
    "    for i in range(sims):\n",
    "        rn.seed(seed+i)\n",
    "        __, c, __, __ = annealing(random_start, cost_function, random_neighbour, acceptance_probability, temperature, maxsteps=1000, debug=False)\n",
    "        res += [-c]\n",
    "    print('------ Simulation with initial temperature T0 =',T0,'-----')\n",
    "    print('Time needed for',sims,'simulations:', round(time.time()-time0,3), 's')\n",
    "#     print(res)\n",
    "    print(round(sum(map(lambda x: x>=1.9 and x<=2.0,res))/sims*100,2),'% of simulations returned 1.9-2.0 fitnessFunction')\n",
    "    print()\n",
    "    return res"
   ]
  },
  {
   "cell_type": "code",
   "execution_count": 303,
   "metadata": {
    "scrolled": true
   },
   "outputs": [
    {
     "name": "stdout",
     "output_type": "stream",
     "text": [
      "------ Simulation with initial temperature T0 = 10 -----\n",
      "Time needed for 100 simulations: 1.641 s\n",
      "0.0 % of simulations returned 1.9-2.0 fitnessFunction\n",
      "\n",
      "------ Simulation with initial temperature T0 = 15 -----\n",
      "Time needed for 100 simulations: 1.691 s\n",
      "10.0 % of simulations returned 1.9-2.0 fitnessFunction\n",
      "\n",
      "------ Simulation with initial temperature T0 = 20 -----\n",
      "Time needed for 100 simulations: 1.587 s\n",
      "24.0 % of simulations returned 1.9-2.0 fitnessFunction\n",
      "\n",
      "------ Simulation with initial temperature T0 = 25 -----\n",
      "Time needed for 100 simulations: 1.703 s\n",
      "38.0 % of simulations returned 1.9-2.0 fitnessFunction\n",
      "\n",
      "------ Simulation with initial temperature T0 = 30 -----\n",
      "Time needed for 100 simulations: 1.614 s\n",
      "56.0 % of simulations returned 1.9-2.0 fitnessFunction\n",
      "\n",
      "------ Simulation with initial temperature T0 = 35 -----\n",
      "Time needed for 100 simulations: 1.701 s\n",
      "64.0 % of simulations returned 1.9-2.0 fitnessFunction\n",
      "\n",
      "------ Simulation with initial temperature T0 = 40 -----\n",
      "Time needed for 100 simulations: 1.625 s\n",
      "82.0 % of simulations returned 1.9-2.0 fitnessFunction\n",
      "\n",
      "------ Simulation with initial temperature T0 = 45 -----\n",
      "Time needed for 100 simulations: 1.713 s\n",
      "85.0 % of simulations returned 1.9-2.0 fitnessFunction\n",
      "\n",
      "------ Simulation with initial temperature T0 = 50 -----\n",
      "Time needed for 100 simulations: 1.593 s\n",
      "89.0 % of simulations returned 1.9-2.0 fitnessFunction\n",
      "\n",
      "------ Simulation with initial temperature T0 = 55 -----\n",
      "Time needed for 100 simulations: 1.565 s\n",
      "90.0 % of simulations returned 1.9-2.0 fitnessFunction\n",
      "\n",
      "------ Simulation with initial temperature T0 = 60 -----\n",
      "Time needed for 100 simulations: 1.641 s\n",
      "92.0 % of simulations returned 1.9-2.0 fitnessFunction\n",
      "\n",
      "------ Simulation with initial temperature T0 = 65 -----\n",
      "Time needed for 100 simulations: 1.681 s\n",
      "90.0 % of simulations returned 1.9-2.0 fitnessFunction\n",
      "\n",
      "------ Simulation with initial temperature T0 = 70 -----\n",
      "Time needed for 100 simulations: 1.655 s\n",
      "89.0 % of simulations returned 1.9-2.0 fitnessFunction\n",
      "\n",
      "------ Simulation with initial temperature T0 = 75 -----\n",
      "Time needed for 100 simulations: 1.645 s\n",
      "93.0 % of simulations returned 1.9-2.0 fitnessFunction\n",
      "\n",
      "------ Simulation with initial temperature T0 = 80 -----\n",
      "Time needed for 100 simulations: 1.645 s\n",
      "89.0 % of simulations returned 1.9-2.0 fitnessFunction\n",
      "\n",
      "------ Simulation with initial temperature T0 = 85 -----\n",
      "Time needed for 100 simulations: 1.664 s\n",
      "92.0 % of simulations returned 1.9-2.0 fitnessFunction\n",
      "\n",
      "------ Simulation with initial temperature T0 = 90 -----\n",
      "Time needed for 100 simulations: 1.643 s\n",
      "91.0 % of simulations returned 1.9-2.0 fitnessFunction\n",
      "\n",
      "------ Simulation with initial temperature T0 = 95 -----\n",
      "Time needed for 100 simulations: 1.419 s\n",
      "93.0 % of simulations returned 1.9-2.0 fitnessFunction\n",
      "\n",
      "------ Simulation with initial temperature T0 = 100 -----\n",
      "Time needed for 100 simulations: 1.606 s\n",
      "92.0 % of simulations returned 1.9-2.0 fitnessFunction\n",
      "\n"
     ]
    }
   ],
   "source": [
    "T0ls = np.arange(10,105,step=5)\n",
    "perc_19_20 = []\n",
    "for T0 in T0ls:\n",
    "    res = simulateAnnealing(T0=T0)\n",
    "    perc_19_20 += [sum(map(lambda x: x>=1.9 and x<=2.0,res))]\n",
    "#     simulateAnnealing(T0=T0)"
   ]
  },
  {
   "cell_type": "code",
   "execution_count": 304,
   "metadata": {},
   "outputs": [
    {
     "data": {
      "image/png": "[encoded data removed]",
      "text/plain": [
       "<Figure size 432x288 with 1 Axes>"
      ]
     },
     "metadata": {
      "needs_background": "light"
     },
     "output_type": "display_data"
    }
   ],
   "source": [
    "plt.figure()\n",
    "plt.plot(T0ls, perc_19_20)\n",
    "plt.title(\"Percent of simulations meeting almost global maximum\")\n",
    "plt.xlabel(\"Initial Temperature\")\n",
    "plt.ylabel(\"% of sims meeting almost global maximum\")\n",
    "plt.show()"
   ]
  },
  {
   "cell_type": "markdown",
   "metadata": {},
   "source": [
    "Observed trends:\n",
    "- As inital temperature goes high, the % of 'successful' optimizations goes linearly high.\n",
    "- It reaches at 90% with initial temperature = 55 for the first time.\n",
    "- After it reaches 90%, it won't converge to 100% but moves above and below 90%.\n",
    "\n",
    "Explanations:\n",
    "- Higher initial or intermediate temperatures result in higher acceptance rate, which ends up with higher chances of jumping over the local minimum. Therefore, the % of success goes higher as initial temperature goes higher.\n",
    "- Once reaching at global maximum, the ideal is the temperature is already cold enough so that they never jumps out to another local maximum, but it is not always the case. Therefore, the % of success is less likely to hit 100%."
   ]
  },
  {
   "cell_type": "code",
   "execution_count": null,
   "metadata": {},
   "outputs": [],
   "source": []
  }
 ],
 "metadata": {
  "kernelspec": {
   "display_name": "Python 3",
   "language": "python",
   "name": "python3"
  },
  "language_info": {
   "codemirror_mode": {
    "name": "ipython",
    "version": 3
   },
   "file_extension": ".py",
   "mimetype": "text/x-python",
   "name": "python",
   "nbconvert_exporter": "python",
   "pygments_lexer": "ipython3",
   "version": "3.6.8"
  }
 },
 "nbformat": 4,
 "nbformat_minor": 2
}
