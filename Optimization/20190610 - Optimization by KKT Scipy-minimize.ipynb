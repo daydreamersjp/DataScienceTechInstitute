{
 "cells": [
  {
   "cell_type": "markdown",
   "metadata": {},
   "source": [
    "<div style=\"font-size: 20px\">This notebook is prepared for the submission of Assignment 2 of \"Metaheuristic Optimization\" class by Dr. Amir Nakib to Summer 2019 cohort of Data ScienceTech Institute.</div>\n",
    "\n",
    "- Exercise 1 and 2: this notebook 'DSTI Metaheuristic Assignment2 at 20190610 - Exercise 1&2_ver2.ipynb'\n",
    "- Exercise 3: Attached 'DSTI Metaheuristic Assignment2 at 20190610 - Exercise 3.nb.html'\n"
   ]
  },
  {
   "cell_type": "markdown",
   "metadata": {},
   "source": [
    "From (b), the new prices are given by solving the following equetions:\n",
    "\n",
    "$\\lambda_4 = p_1-100 = p_2 - 150 = p_3 - 300$\n",
    "\n",
    "$100 exp(- \\frac{\\lambda_4+100}{100} ) + 150 exp(- \\frac{\\lambda_4+150}{150} ) + 300 exp(- \\frac{\\lambda_4+300}{300} ) = 150+3$\n",
    "\n",
    "<br>\n",
    "\n",
    "Here, new $\\lambda_4 = 52.874$ with decrease by 3.874. \n",
    "\n",
    "Therefore, the airline changes the each price with decrease of 3.874.\n",
    "\n",
    "And new optimized revenue is 43,835."
   ]
  },
  {
   "cell_type": "markdown",
   "metadata": {},
   "source": [
    "# Exercise 1"
   ]
  },
  {
   "cell_type": "markdown",
   "metadata": {},
   "source": [
    "### (a)"
   ]
  },
  {
   "cell_type": "markdown",
   "metadata": {},
   "source": [
    "Maximize the following objective function $J$ :\n",
    "\n",
    "$J(p_1, p_2, p_3) = 100 p_1 exp(- \\frac{p_1}{100} ) + 150 p_2 exp(- \\frac{p_2}{150} ) + 300 p_3 exp(- \\frac{p_3}{300} )$\n",
    "\n",
    ", with the contraints:\n",
    "\n",
    "$p_1 >= 0, p_2 >= 0, p_3 >= 0,$\n",
    "\n",
    "$100 exp(- \\frac{p_1}{100} ) + 150 exp(- \\frac{p_2}{150} ) + 300 exp(- \\frac{p_3}{300} ) <= 150$"
   ]
  },
  {
   "cell_type": "markdown",
   "metadata": {},
   "source": [
    "### (b)"
   ]
  },
  {
   "cell_type": "markdown",
   "metadata": {},
   "source": [
    "Gradient of objective function $J$ is:\n",
    "\n",
    "$ \\begin{pmatrix}\n",
    "    (100 - p_1) exp (- \\frac{p_1}{100} ) \\\\\n",
    "    (150 - p_2) exp (- \\frac{p_2}{150} ) \\\\\n",
    "    (300 - p_3) exp (- \\frac{p_3}{300} ) \\\\\n",
    "  \\end{pmatrix}$\n",
    "\n",
    "Hessian matrix of the objective function $J$ is diagonal matrix with following three diagonal elements:\n",
    "\n",
    "$ (\\frac{p_1}{100} - 2) exp (- \\frac{p_1}{100} ) $,\n",
    "\n",
    "$(\\frac{p_2}{150} - 2) exp (- \\frac{p_2}{150} )$,\n",
    "\n",
    "$(\\frac{p_3}{300} - 2) exp (- \\frac{p_3}{300} )$\n",
    "\n",
    "$ \\\\ $\n",
    "\n",
    "Using Lagrangian multiplier $ \\lambda_i (i = 1, 2, 3, 4) $, let's put the Lagrangian as follows:\n",
    "\n",
    "$\n",
    "L(p_1,p_2,p_3,\\lambda_1,\\lambda_2,\\lambda_3,\\lambda_4) = - J + \\lambda_1 (-p_1) + \\lambda_2 (-p_2) + \\lambda_3 (-p_3) + \\lambda_4 (100 exp(- \\frac{p_1}{100} ) + 150 exp(- \\frac{p_2}{150} ) + 300 exp(- \\frac{p_3}{300} ) - 150) \n",
    "$\n",
    "\n",
    "\n",
    "From KKT conditions:\n",
    "\n",
    "$\n",
    "-(100 - p_1) exp (- \\frac{p_1}{100} ) - \\lambda_1 - \\lambda_4 exp( - \\frac{p_1}{100} ) = 0 \\\\\n",
    "-(100 - p_2) exp (- \\frac{p_2}{150} ) - \\lambda_2 - \\lambda_4 exp( - \\frac{p_2}{150} ) = 0 \\\\\n",
    "-(100 - p_3) exp (- \\frac{p_3}{300} ) - \\lambda_3 - \\lambda_4 exp( - \\frac{p_3}{300} ) = 0 \\\\\n",
    "\\lambda_i >=0 \\: for \\: i=1,2,3,4 \\\\\n",
    "\\lambda_i p_i = 0 \\: for \\: i=1,2,3 \\\\\n",
    "\\lambda_4 (100 exp(- \\frac{p_1}{100} ) + 150 exp(- \\frac{p_2}{150} ) + 300 exp(- \\frac{p_3}{300} ) - 150) = 0\n",
    "$\n",
    "\n",
    "$ \\\\ $\n",
    "\n",
    "Solving this,\n",
    "\n",
    "$\\lambda_1, \\lambda_2, \\lambda_3 = 0$\n",
    "\n",
    "$\\lambda_4 = p_1-100 = p_2 - 150 = p_3 - 300$\n",
    "\n",
    "$100 exp(- \\frac{\\lambda_4+100}{100} ) + 150 exp(- \\frac{\\lambda_4+150}{150} ) + 300 exp(- \\frac{\\lambda_4+300}{300} ) = 150$\n",
    "\n",
    "A solver (such as Excel Solver) gives us the answer $p^*$ as:\n",
    "\n",
    "$\\lambda_4=56.748, \\: p_1^*=156.748, \\: p_2^*=206.748, \\: p_3^*=356.748$\n",
    "\n",
    "Here,\n",
    "\n",
    "$D_1^*=20.857, \\: D_2^*=37.800, \\: D_3^*=91.343$  \n",
    "($D_i$ are continuous variable as assumed.)\n",
    "\n",
    "The total revenue is 43,671.\n",
    "\n",
    "<br>\n",
    "\n",
    "Hessian matrix of $-J$ is not positive definite for $\\forall p \\in R^3$, but is strictly positive definite at the found $D_i^*$ above, therefore it is maximum."
   ]
  },
  {
   "cell_type": "markdown",
   "metadata": {},
   "source": [
    "### (b-2) Using scipy.optimize for double check"
   ]
  },
  {
   "cell_type": "code",
   "execution_count": 1,
   "metadata": {},
   "outputs": [
    {
     "data": {
      "text/plain": [
       "array([156.74910271, 206.74792248, 356.74836292])"
      ]
     },
     "execution_count": 1,
     "metadata": {},
     "output_type": "execute_result"
    }
   ],
   "source": [
    "import numpy as np\n",
    "from scipy.optimize import minimize\n",
    "\n",
    "def obj2min(p):\n",
    "    return -100*p[0]*np.exp(-p[0]/100)-150*p[1]*np.exp(-p[1]/150)-300*p[2]*np.exp(-p[2]/300)\n",
    "\n",
    "def constraint(p):\n",
    "    return 150 - 100*np.exp(-p[0]/100)-150*np.exp(-p[1]/150)-300*np.exp(-p[2]/300)\n",
    "\n",
    "p0 = [10,10,10]\n",
    "b = (0,np.inf)\n",
    "bound = (b,b,b)\n",
    "con = [{'type': 'ineq','fun': constraint}]\n",
    "\n",
    "# Sequential quadratic programming (SQP) as recommended by Lecture 12 slide.\n",
    "sol = minimize(obj2min, p0, method='SLSQP', bounds=bound, constraints=con) \n",
    "sol.x"
   ]
  },
  {
   "cell_type": "markdown",
   "metadata": {},
   "source": [
    "### (c-a.)"
   ]
  },
  {
   "cell_type": "markdown",
   "metadata": {},
   "source": [
    "We can say $\\lambda_1, \\lambda_2, \\lambda_3 = 0$ around the solutions $p_i^*$. Therefore, we simplify Lagurangian as follows:\n",
    "\n",
    "\n",
    "$L(p_1,p_2,p_3,\\lambda_4) = - J(p_1,p_2,p_3) + \\lambda_4 (100 exp(- \\frac{p_1}{100} ) + 150 exp(- \\frac{p_2}{150} ) + 300 exp(- \\frac{p_3}{300} ) - 150)$\n",
    "\n",
    "with non-zero $\\lambda_4$ .\n",
    "\n",
    "Here, we put a column vector by optimal prices $p_1, p_2, p_3$ as $p^*$, and the constraint $100 exp(- \\frac{p_1}{100} ) + 150 exp(- \\frac{p_2}{150} ) + 300 exp(- \\frac{p_3}{300} ) - 150$ as $g(p)$ .\n",
    "\n",
    "Now, constraint $g(p)$ is active. Therefore, $g(p^*)=0$.\n",
    "\n",
    "When the constraint term decreases by $\\epsilon$ (such as increasing seats from 150 to 153), $g(p^*) = -\\epsilon$. When assuming with the change of constraint, the KKT is still satisfied, $\\frac{dL}{d \\epsilon}=0$ (but the change in constraint not large enough to change the $\\lambda_4$), therefore:\n",
    "\n",
    "$0 = -\\frac {dJ(p^*)}{d \\epsilon} + \\lambda_4 \\frac {g(p^*)}{d \\epsilon} = -\\frac {dJ(p^*)}{d \\epsilon} + \\lambda_4 $\n",
    "\n",
    "This means the lagrangian multiplier to the active constraint represents the $p^*$-neighborhood sensitivity of its constraint to objective function. \n",
    "\n",
    "<br><br>\n",
    "\n",
    "As a conclusion,\n",
    "\n",
    "The increased revenue by additional three seats is $\\Delta J= \\lambda_4 * 3 = 56.748 * 3 = 170.244$"
   ]
  },
  {
   "cell_type": "markdown",
   "metadata": {},
   "source": [
    "### (c-b.)"
   ]
  },
  {
   "cell_type": "markdown",
   "metadata": {},
   "source": [
    "Taking the derivative by $\\epsilon$ of $g(p^*) = -\\epsilon$, the chain rule leads to:\n",
    "\n",
    "$\\nabla g(p^*)^T \\frac{dp^*}{d\\epsilon} = -1$\n",
    "\n",
    "Here,\n",
    "\n",
    "$\\nabla g(p^*) =  \\begin{pmatrix}\n",
    "    - exp (- \\frac{p^*_1}{100} ) \\\\\n",
    "    - exp (- \\frac{p^*_2}{150} ) \\\\\n",
    "    - exp (- \\frac{p^*_3}{300} ) \\\\\n",
    "  \\end{pmatrix}$, with  $p_1^*=156.748, \\: p_2^*=206.748, \\: p_3^*=356.748$\n",
    "\n",
    "Also from KKT, $p_1-100 = p_2 - 150 = p_3 - 300$ still saffices.\n",
    "\n",
    "<br><br>\n",
    "\n",
    "From all above, $\\Delta p^*$ by change of $\\epsilon=1$ is the same for all three price element and it is $- \\frac{1}{exp(\\frac{-156.748}{100})+exp(\\frac{-200.748}{150})+exp(\\frac{-356.748}{300}) } = - 1.290$\n",
    "\n",
    "With the increase of 3 plane seats, the price decrease is 3.869 for all three seat classes, which are:\n",
    "\n",
    "$p_1=152.879, \\: p_2=202.879, \\: p_3=352.879$\n",
    "\n",
    "And new optimized revenue is 43,835."
   ]
  },
  {
   "cell_type": "markdown",
   "metadata": {},
   "source": [
    "### (c-2) Double check by solving the optimization on Scipy with additional two seats."
   ]
  },
  {
   "cell_type": "code",
   "execution_count": 2,
   "metadata": {},
   "outputs": [
    {
     "data": {
      "text/plain": [
       "array([152.87520895, 202.87435581, 352.87395097])"
      ]
     },
     "execution_count": 2,
     "metadata": {},
     "output_type": "execute_result"
    }
   ],
   "source": [
    "def obj2min(p):\n",
    "    return -100*p[0]*np.exp(-p[0]/100)-150*p[1]*np.exp(-p[1]/150)-300*p[2]*np.exp(-p[2]/300)\n",
    "\n",
    "def constraint(p):\n",
    "    return 150 + 3 - 100*np.exp(-p[0]/100)-150*np.exp(-p[1]/150)-300*np.exp(-p[2]/300)\n",
    "\n",
    "p0 = [10,10,10]\n",
    "b = (0,np.inf)\n",
    "bound = (b,b,b)\n",
    "con = [{'type': 'ineq','fun': constraint}]\n",
    "\n",
    "sol = minimize(obj2min, p0, method='SLSQP', bounds=bound, constraints=con)\n",
    "sol.x"
   ]
  },
  {
   "cell_type": "markdown",
   "metadata": {},
   "source": [
    "<hr style=\"border-width: thick\">"
   ]
  },
  {
   "cell_type": "markdown",
   "metadata": {},
   "source": [
    "\n",
    "# Exercise 2"
   ]
  },
  {
   "cell_type": "code",
   "execution_count": 3,
   "metadata": {},
   "outputs": [],
   "source": [
    "import math\n",
    "import numpy as np\n",
    "import pandas as pd\n",
    "\n",
    "from scipy.optimize import minimize\n",
    "import matplotlib.pyplot as plt\n",
    "from mpl_toolkits import mplot3d\n",
    "from matplotlib import cm\n",
    "%matplotlib inline"
   ]
  },
  {
   "cell_type": "markdown",
   "metadata": {},
   "source": [
    "## Ex2-0. Defining function and gradients"
   ]
  },
  {
   "cell_type": "markdown",
   "metadata": {},
   "source": [
    "##### Banana Function:\n",
    "\n",
    "$ f(x) = 100 ( x_2 - x_1^2)^2 + (1-x_1)^2 $\n",
    "\n",
    "$ \\nabla{f} = \\begin{pmatrix} -400x_1(x_2-x_1^2) - 2 (1-x_1) \\\\ 200(x_2-x_1^2) \\end{pmatrix}$\n",
    "\n",
    "with:\n",
    "\n",
    "$ x_1, x_2 \\in [-5,5] $"
   ]
  },
  {
   "cell_type": "markdown",
   "metadata": {},
   "source": [
    "##### Eggcrate Function:\n",
    "\n",
    "$ f(x) = x_1^2 + x_2^2 + 25(\\sin ^2 x_1 + \\sin ^2 x_2) $\n",
    "\n",
    "$ \\nabla{f} = \\begin{pmatrix} 2x_1 + 50 \\sin x_1 \\cos x_1 \\\\ 2x_2 + 50 \\sin x_2 \\cos x_2 \\end{pmatrix}$\n",
    "\n",
    "with:\n",
    "\n",
    "$ x_1, x_2 \\in [-2 \\pi, 2 \\pi ] $"
   ]
  },
  {
   "cell_type": "markdown",
   "metadata": {},
   "source": [
    "##### Golinski's Speed Reducer:\n",
    "\n",
    "$ f(x) = 0.7854 x_1 x_2^2 ( 3.333 x_3 ^2 + 14.9334 x_3 - 43.0934) - 1.5079 x_1 (x_6^2 + x_7^2) + 7.4777 (x_6^3 + x_7^3) + 0.7854(x_4 x_6^2+x_5 x_7^2) $\n",
    "\n",
    "$ \\nabla{f} = \\begin{pmatrix}  \n",
    "    0.7854 x_2^2 ( 3.333 x_3 ^2 + 14.9334 x_3 - 43.0934) - 1.5079 (x_6^2 + x_7^2) \\\\ \n",
    "    2 * 0.7854 x_1 x_2 ( 3.333 x_3 ^2 + 14.9334 x_3 - 43.0934) \\\\\n",
    "    0.7854 x_1 x_2^2 ( 2 * 3.333 x_3 + 14.9334) \\\\\n",
    "    0.7854 x_6^2 \\\\\n",
    "    0.7854 x_7^2 \\\\\n",
    "    - 2 * 1.5079 x_1 x_6 + 3 * 7.4777 x_6^2 + 2 * 0.7854 x_4 x_6 \\\\\n",
    "    - 2 * 1.5079 x_1 x_7 + 3 * 7.4777 x_7^2 + 2 * 0.7854 x_5 x_7\n",
    "\\end{pmatrix} $\n",
    "\n",
    "Skipping constrains because there are 25 constraints and they are too much to copy here.\n",
    "<br><br>"
   ]
  },
  {
   "cell_type": "code",
   "execution_count": 4,
   "metadata": {},
   "outputs": [],
   "source": [
    "#Objective functions\n",
    "def bananaFunc(x):\n",
    "    res = 100*(x[1]-x[0]**2)**2+(1-x[0])**2\n",
    "    return res\n",
    "\n",
    "def eggcrateFunc(x):\n",
    "    res = x[0]**2+x[1]**2+25*(math.sin(x[0])**2 + math.sin(x[1])**2)\n",
    "    return res\n",
    "\n",
    "def golSRFunc(x):\n",
    "    x_1, x_2, x_3, x_4, x_5, x_6, x_7 = x[0], x[1], x[2], x[3], x[4], x[5], x[6]\n",
    "    res = 0.7854*x_1*x_2**2*(3.333*x_3**2 + 14.9334*x_3 - 43.0934) - 1.5079*x_1*(x_6**2 + x_7**2) \\\n",
    "           + 7.4777*(x_6**3 + x_7**3) + 0.7854*(x_4*x_6**2+x_5*x_7**2)\n",
    "    if not constGSR(x):\n",
    "        res += 10000 #Penalty term when not meeting the constraints.\n",
    "    return res"
   ]
  },
  {
   "cell_type": "code",
   "execution_count": 5,
   "metadata": {},
   "outputs": [],
   "source": [
    "def visGraph(func, bn, tit):\n",
    "    u = np.linspace(0, 2 * np.pi, 100)\n",
    "    v = np.linspace(0, np.pi, 100)\n",
    "    x = bn * np.outer(np.cos(u), np.sin(v))\n",
    "    y = bn * np.outer(np.sin(u), np.sin(v))\n",
    "    z = []\n",
    "\n",
    "    fig = plt.figure()\n",
    "    ax = fig.gca(projection='3d')\n",
    "    z = np.array( [[func([x[i][j],y[i][j]]) for j in range(100)] for i in range(100)] )\n",
    "\n",
    "    surf = ax.plot_surface(x, y, z, cmap=cm.coolwarm, linewidth=0, antialiased=False)\n",
    "    fig.colorbar(surf, shrink=0.5, aspect=5)\n",
    "    plt.title(tit)\n",
    "    plt.show()"
   ]
  },
  {
   "cell_type": "code",
   "execution_count": 6,
   "metadata": {},
   "outputs": [
    {
     "data": {
      "image/png": "[encoded data removed]",
      "text/plain": [
       "<Figure size 432x288 with 2 Axes>"
      ]
     },
     "metadata": {
      "needs_background": "light"
     },
     "output_type": "display_data"
    }
   ],
   "source": [
    "visGraph(bananaFunc, 5, 'Banana Function')"
   ]
  },
  {
   "cell_type": "code",
   "execution_count": 7,
   "metadata": {},
   "outputs": [
    {
     "data": {
      "image/png": "[encoded data removed]",
      "text/plain": [
       "<Figure size 432x288 with 2 Axes>"
      ]
     },
     "metadata": {
      "needs_background": "light"
     },
     "output_type": "display_data"
    }
   ],
   "source": [
    "visGraph(eggcrateFunc, 2*np.pi, 'Eggcrate Function')"
   ]
  },
  {
   "cell_type": "code",
   "execution_count": 8,
   "metadata": {},
   "outputs": [],
   "source": [
    "# callback function to display the iteration progress\n",
    "def bananaCallbackFunc(x):\n",
    "    global Nfeval\n",
    "    global xlog\n",
    "    global reslog\n",
    "    xlog.append([x[0],x[1]])\n",
    "    reslog.append(bananaFunc(x))\n",
    "    print('{0:4d}   {1: 3.6f}   {2: 3.6f}   {3: 3.6f}'.format(Nfeval, x[0], x[1], bananaFunc(x)))\n",
    "    Nfeval += 1\n",
    "\n",
    "def eggcrateCallbackFunc(x):\n",
    "    global Nfeval\n",
    "    global xlog\n",
    "    global reslog\n",
    "    xlog.append([x[0],x[1]])\n",
    "    reslog.append(eggcrateFunc(x))\n",
    "    print('{0:4d}   {1: 3.6f}   {2: 3.6f}   {3: 3.6f}'.format(Nfeval, x[0], x[1], eggcrateFunc(x)))\n",
    "    Nfeval += 1\n",
    "    \n",
    "def golSRCallbackFunc(x):\n",
    "    global Nfeval\n",
    "    global xlog\n",
    "    global reslog\n",
    "    xlog.append([x[0], x[1], x[2], x[3], x[4], x[5], x[6]])\n",
    "    reslog.append(golSRFunc(x))\n",
    "    print('{0:4d}   {1: 3.6f}   {2: 3.6f}   {3: 3.6f}  {4: 3.6f}   {5: 3.6f}   {6: 3.6f}  {7: 3.6f}   {8: 3.6f}'\\\n",
    "          .format(Nfeval, x[0], x[1], x[2], x[3], x[4], x[5], x[6], golSRFunc(x)))\n",
    "    print(constGSR(x,showcount=True),'out of 11 non-bound constraints satisfied.\\n\\n')\n",
    "    Nfeval += 1\n",
    "    \n",
    "#Callbacks without print   \n",
    "def bananaCallbackFunc2(x):\n",
    "    global xlog\n",
    "    global reslog\n",
    "    xlog.append([x[0],x[1]])\n",
    "    reslog.append(bananaFunc(x))\n",
    "\n",
    "def eggcrateCallbackFunc2(x):\n",
    "    global xlog\n",
    "    global reslog\n",
    "    xlog.append([x[0],x[1]])\n",
    "    reslog.append(eggcrateFunc(x))\n",
    "    \n",
    "def golSRCallbackFunc2(x):\n",
    "    global xlog\n",
    "    global reslog\n",
    "    xlog.append([x[0], x[1], x[2], x[3], x[4], x[5], x[6]])\n",
    "    reslog.append(golSRFunc(x))"
   ]
  },
  {
   "cell_type": "code",
   "execution_count": 9,
   "metadata": {},
   "outputs": [],
   "source": [
    "#Gradient functions\n",
    "def gradBananaFunc(x):\n",
    "    return np.array([-400*x[0]*(x[1]-x[0]**2)-2*(1-x[0]), 200*(x[1]-x[0]**2)])\n",
    "\n",
    "def gradEggcrateFunc(x):\n",
    "    return np.array([2*x[0]+50*math.sin(x[0])*math.cos(x[0]), 2*x[1]+50*math.sin(x[1])*math.cos(x[1])])\n",
    "\n",
    "def gradGolSRFunc(x):\n",
    "    x_1, x_2, x_3, x_4, x_5, x_6, x_7 = x[0], x[1], x[2], x[3], x[4], x[5], x[6]\n",
    "    return np.array([\n",
    "        0.7854 * x_2**2 * ( 3.333 * x_3**2 + 14.9334 * x_3 - 43.0934) - 1.5079 * (x_6**2 + x_7**2),\n",
    "        2 * 0.7854 * x_1 * x_2 * ( 3.333 * x_3**2 + 14.9334 * x_3 - 43.0934),\n",
    "        0.7854 * x_1 *x_2**2*( 2 * 3.333*x_3 + 14.9334),\n",
    "        0.7854 * x_6**2,\n",
    "        0.7854 * x_7**2,\n",
    "        - 2 * 1.5079 * x_1 * x_6 + 3 * 7.4777 * x_6**2 + 2 * 0.7854 * x_4 * x_6,\n",
    "        - 2 * 1.5079 * x_1 * x_7 + 3 * 7.4777 * x_7**2 + 2 * 0.7854 * x_5 * x_7\n",
    "    ])"
   ]
  },
  {
   "cell_type": "code",
   "execution_count": 10,
   "metadata": {},
   "outputs": [],
   "source": [
    "# Constraint of Golinski's Speed Reducer\n",
    "# Ref: https://arc.aiaa.org/doi/abs/10.2514/2.1984\n",
    "\n",
    "def constGSR1(x):\n",
    "    x1, x2, x3, x4, x5, x6, x7 = x[0], x[1], x[2], x[3], x[4], x[5], x[6]\n",
    "    return 1- 27/x1/x2**2/x3\n",
    "\n",
    "def constGSR2(x):\n",
    "    x1, x2, x3, x4, x5, x6, x7 = x[0], x[1], x[2], x[3], x[4], x[5], x[6]\n",
    "    return 1 - 397.5/x1/x2**2/x3**2\n",
    "\n",
    "def constGSR3(x):\n",
    "    x1, x2, x3, x4, x5, x6, x7 = x[0], x[1], x[2], x[3], x[4], x[5], x[6]\n",
    "    return 1 - 1.93/x2/x3*x4**3/x6**4\n",
    "\n",
    "def constGSR4(x):\n",
    "    x1, x2, x3, x4, x5, x6, x7 = x[0], x[1], x[2], x[3], x[4], x[5], x[6]\n",
    "    return 1 - 1.93/x2/x3*x5**3/x7**4\n",
    "\n",
    "def constGSR5(x):\n",
    "    x1, x2, x3, x4, x5, x6, x7 = x[0], x[1], x[2], x[3], x[4], x[5], x[6]\n",
    "    return 1 - ( ( (745*x4/x2/x3)**2 + 16.9*10**6 )**0.5 / (110*x6**3))\n",
    "\n",
    "def constGSR6(x):\n",
    "    x1, x2, x3, x4, x5, x6, x7 = x[0], x[1], x[2], x[3], x[4], x[5], x[6]\n",
    "    return 1 - ( ( (745*x5/x2/x3)**2 + 157.5*10**6 )**0.5 / (85*x7**3)) \n",
    "\n",
    "def constGSR7(x):\n",
    "    x1, x2, x3, x4, x5, x6, x7 = x[0], x[1], x[2], x[3], x[4], x[5], x[6]\n",
    "    return 1 - x2*x3 / 40\n",
    "\n",
    "def constGSR8(x):\n",
    "    x1, x2, x3, x4, x5, x6, x7 = x[0], x[1], x[2], x[3], x[4], x[5], x[6]\n",
    "    return 1 - 5*x2/x1\n",
    "\n",
    "def constGSR9(x):\n",
    "    x1, x2, x3, x4, x5, x6, x7 = x[0], x[1], x[2], x[3], x[4], x[5], x[6]\n",
    "    return 1 - x1/12*x2 ##<--------------- x1/12*x2 ???\n",
    "\n",
    "def constGSR24(x):\n",
    "    x1, x2, x3, x4, x5, x6, x7 = x[0], x[1], x[2], x[3], x[4], x[5], x[6]\n",
    "    return 1 - (1.5*x6 + 1.9)/x4\n",
    "\n",
    "def constGSR25(x):\n",
    "    x1, x2, x3, x4, x5, x6, x7 = x[0], x[1], x[2], x[3], x[4], x[5], x[6]\n",
    "    return 1 - (1.1*x7 + 1.9)/x5\n",
    "\n",
    "def constGSR10(x):\n",
    "    x1, x2, x3, x4, x5, x6, x7 = x[0], x[1], x[2], x[3], x[4], x[5], x[6]\n",
    "    return x1 - 2.6\n",
    "\n",
    "def constGSR11(x):\n",
    "    x1, x2, x3, x4, x5, x6, x7 = x[0], x[1], x[2], x[3], x[4], x[5], x[6]\n",
    "    return 3.6 - x1\n",
    "\n",
    "def constGSR12(x):\n",
    "    x1, x2, x3, x4, x5, x6, x7 = x[0], x[1], x[2], x[3], x[4], x[5], x[6]\n",
    "    return x2 - 0.7\n",
    "\n",
    "def constGSR13(x):\n",
    "    x1, x2, x3, x4, x5, x6, x7 = x[0], x[1], x[2], x[3], x[4], x[5], x[6]\n",
    "    return 0.8 - x2\n",
    "\n",
    "def constGSR14(x):\n",
    "    x1, x2, x3, x4, x5, x6, x7 = x[0], x[1], x[2], x[3], x[4], x[5], x[6]\n",
    "    return x3 - 17 ##<--------------- Integer -> Smear at last step?\n",
    "\n",
    "def constGSR15(x):\n",
    "    x1, x2, x3, x4, x5, x6, x7 = x[0], x[1], x[2], x[3], x[4], x[5], x[6]\n",
    "    return 28 - x3 ##<--------------- Integer -> Smear at last step?\n",
    "\n",
    "def constGSR16(x):\n",
    "    x1, x2, x3, x4, x5, x6, x7 = x[0], x[1], x[2], x[3], x[4], x[5], x[6]\n",
    "    return x4 - 7.3\n",
    "\n",
    "def constGSR17(x):\n",
    "    x1, x2, x3, x4, x5, x6, x7 = x[0], x[1], x[2], x[3], x[4], x[5], x[6]\n",
    "    return 8.3 - x4\n",
    "\n",
    "def constGSR18(x):\n",
    "    x1, x2, x3, x4, x5, x6, x7 = x[0], x[1], x[2], x[3], x[4], x[5], x[6]\n",
    "    return x5 - 7.3\n",
    "\n",
    "def constGSR19(x):\n",
    "    x1, x2, x3, x4, x5, x6, x7 = x[0], x[1], x[2], x[3], x[4], x[5], x[6]\n",
    "    return 8.3 - x5\n",
    "\n",
    "def constGSR20(x):\n",
    "    x1, x2, x3, x4, x5, x6, x7 = x[0], x[1], x[2], x[3], x[4], x[5], x[6]\n",
    "    return x6 - 2.9\n",
    "\n",
    "def constGSR21(x):\n",
    "    x1, x2, x3, x4, x5, x6, x7 = x[0], x[1], x[2], x[3], x[4], x[5], x[6]\n",
    "    return 3.9 - x6\n",
    "\n",
    "def constGSR22(x):\n",
    "    x1, x2, x3, x4, x5, x6, x7 = x[0], x[1], x[2], x[3], x[4], x[5], x[6]\n",
    "    return x7 - 5.0\n",
    "\n",
    "def constGSR23(x):\n",
    "    x1, x2, x3, x4, x5, x6, x7 = x[0], x[1], x[2], x[3], x[4], x[5], x[6]\n",
    "    return 5.9 - x7\n",
    "\n",
    "#####################\n",
    "\n",
    "def constGSR(x,showcount=False): # Satisfying all the constraints\n",
    "    if not showcount:\n",
    "        if (\n",
    "            constGSR1(x) >= 0\n",
    "            and\n",
    "            constGSR2(x) >= 0\n",
    "            and\n",
    "            constGSR3(x) >= 0\n",
    "            and\n",
    "            constGSR4(x) >= 0\n",
    "            and\n",
    "            constGSR5(x) >= 0\n",
    "            and\n",
    "            constGSR6(x) >= 0\n",
    "            and\n",
    "            constGSR7(x) >= 0\n",
    "            and\n",
    "            constGSR8(x) >= 0\n",
    "            and\n",
    "            constGSR9(x) >= 0\n",
    "            and\n",
    "            constGSR10(x) >= 0\n",
    "            and\n",
    "            constGSR11(x) >= 0\n",
    "            and\n",
    "            constGSR12(x) >= 0\n",
    "            and\n",
    "            constGSR13(x) >= 0\n",
    "            and\n",
    "            constGSR14(x) >= 0\n",
    "            and\n",
    "            constGSR15(x) >= 0\n",
    "            and\n",
    "            constGSR16(x) >= 0\n",
    "            and\n",
    "            constGSR17(x) >= 0\n",
    "            and\n",
    "            constGSR18(x) >= 0\n",
    "            and\n",
    "            constGSR19(x) >= 0\n",
    "            and\n",
    "            constGSR20(x) >= 0\n",
    "            and\n",
    "            constGSR21(x) >= 0\n",
    "            and\n",
    "            constGSR22(x) >= 0\n",
    "            and\n",
    "            constGSR23(x) >= 0\n",
    "            and\n",
    "            constGSR24(x) >= 0\n",
    "            and\n",
    "            constGSR25(x) >= 0\n",
    "        ) :\n",
    "            return True\n",
    "        return False\n",
    "    else:\n",
    "        return sum(map(lambda k: k>=0, [constGSR1(x),constGSR2(x),constGSR3(x),constGSR4(x),constGSR5(x),\n",
    "                                        constGSR6(x),constGSR7(x),constGSR8(x),constGSR9(x),constGSR24(x),constGSR25(x),]))"
   ]
  },
  {
   "cell_type": "markdown",
   "metadata": {},
   "source": [
    "## Ex2-1. Gradient-based Optimization Using Scipy.minimize"
   ]
  },
  {
   "cell_type": "markdown",
   "metadata": {},
   "source": [
    "### Ex2-1.1. Banana Function"
   ]
  },
  {
   "cell_type": "markdown",
   "metadata": {},
   "source": [
    "- I will use Quasi-Newton (BFGS: Broydon-Fletcher-Goldfarb-Shanno) as recommended by Lecture 12 slide.\n",
    "\n",
    "- Maximum number of iterations to be 100."
   ]
  },
  {
   "cell_type": "markdown",
   "metadata": {},
   "source": [
    "#### Ex2-1.1.1. One Initial Point"
   ]
  },
  {
   "cell_type": "code",
   "execution_count": 11,
   "metadata": {},
   "outputs": [],
   "source": [
    "np.random.seed(2)\n",
    "x00_banana = np.random.rand(10,2)*10 - 5"
   ]
  },
  {
   "cell_type": "code",
   "execution_count": 12,
   "metadata": {
    "scrolled": true
   },
   "outputs": [
    {
     "name": "stdout",
     "output_type": "stream",
     "text": [
      "Iter    X1          X2         f(X)     \n",
      "   1    0.156626   -4.119927    1718.365513\n",
      "   2   -0.122715   -1.923431    377.034827\n",
      "   3   -0.151447   -0.078076    2.346175\n",
      "   4   -0.151159    0.022641    1.325172\n",
      "   5    0.094628   -0.003248    0.834587\n",
      "   6    0.139871   -0.004091    0.795777\n",
      "   7    0.179365    0.009167    0.726363\n",
      "   8    0.237420    0.039760    0.609113\n",
      "   9    0.369850    0.112392    0.456610\n",
      "  10    0.459553    0.216849    0.295286\n",
      "  11    0.527876    0.270493    0.229560\n",
      "  12    0.581518    0.321224    0.203822\n",
      "  13    0.621079    0.370518    0.166747\n",
      "  14    0.670980    0.444682    0.111314\n",
      "  15    0.719114    0.507603    0.087963\n",
      "  16    0.789305    0.612619    0.055175\n",
      "  17    0.837434    0.700585    0.026478\n",
      "  18    0.880815    0.770158    0.017427\n",
      "  19    0.921498    0.843302    0.009593\n",
      "  20    0.947314    0.897754    0.002788\n",
      "  21    0.987582    0.972288    0.001072\n",
      "  22    0.983482    0.966741    0.000298\n",
      "  23    0.993004    0.985944    0.000050\n",
      "  24    0.999488    0.998874    0.000001\n",
      "  25    0.999919    0.999837    0.000000\n",
      "  26    0.999997    0.999995    0.000000\n"
     ]
    },
    {
     "name": "stderr",
     "output_type": "stream",
     "text": [
      "C:\\Users\\daydr\\AppData\\Roaming\\Python\\Python36\\site-packages\\scipy\\optimize\\_minimize.py:518: RuntimeWarning: Method BFGS cannot handle constraints nor bounds.\n",
      "  RuntimeWarning)\n"
     ]
    }
   ],
   "source": [
    "x0 = x00_banana[0]\n",
    "b = (-5,5)\n",
    "bound = (b,b)\n",
    "Nfeval = 1\n",
    "xlog = []\n",
    "reslog = []\n",
    "\n",
    "# Quasi-Newton (BFGS: Broydon-Fletcher-Goldfarb-Shanno) as recommended by Lecture 12 slide.\n",
    "print('{0:4s}   {1:9s}   {2:9s}   {3:9s}'.format('Iter', ' X1', ' X2',  'f(X)')  )\n",
    "sol = minimize(bananaFunc, x0, callback=bananaCallbackFunc, method='BFGS', bounds=bound, options={'maxiter':100}) "
   ]
  },
  {
   "cell_type": "code",
   "execution_count": 14,
   "metadata": {},
   "outputs": [
    {
     "data": {
      "image/png": "[encoded data removed]",
      "text/plain": [
       "<Figure size 432x288 with 1 Axes>"
      ]
     },
     "metadata": {
      "needs_background": "light"
     },
     "output_type": "display_data"
    }
   ],
   "source": [
    "plt.figure()\n",
    "plt.plot(range(1,len(reslog)+1),reslog)\n",
    "plt.xlabel('Iterations')\n",
    "plt.ylabel('Objective Function Value')\n",
    "plt.show()"
   ]
  },
  {
   "cell_type": "code",
   "execution_count": 15,
   "metadata": {},
   "outputs": [
    {
     "name": "stdout",
     "output_type": "stream",
     "text": [
      "Iteration minimum is 9.280255632630889e-12 at [0.9999974261832995, 0.9999946894093248]\n"
     ]
    }
   ],
   "source": [
    "rmin = np.min(reslog)\n",
    "xmin = xlog[reslog.index(rmin)]\n",
    "print('Iteration minimum is',rmin,'at',xmin)"
   ]
  },
  {
   "cell_type": "markdown",
   "metadata": {},
   "source": [
    "#### Ex2-1.1.2. Ten Initial Points"
   ]
  },
  {
   "cell_type": "code",
   "execution_count": 16,
   "metadata": {},
   "outputs": [
    {
     "name": "stderr",
     "output_type": "stream",
     "text": [
      "C:\\Users\\daydr\\AppData\\Roaming\\Python\\Python36\\site-packages\\scipy\\optimize\\_minimize.py:518: RuntimeWarning: Method BFGS cannot handle constraints nor bounds.\n",
      "  RuntimeWarning)\n",
      "C:\\Users\\daydr\\AppData\\Roaming\\Python\\Python36\\site-packages\\scipy\\optimize\\_minimize.py:518: RuntimeWarning: Method BFGS cannot handle constraints nor bounds.\n",
      "  RuntimeWarning)\n"
     ]
    }
   ],
   "source": [
    "b = (-5,5)\n",
    "bound = (b,b)\n",
    "xlogAll=[]\n",
    "reslogAll=[]\n",
    "\n",
    "for i in range(10):\n",
    "    x0 = x00_banana[i]\n",
    "\n",
    "    xlog=[]\n",
    "    reslog=[]\n",
    "    sol = minimize(bananaFunc, x0, callback=bananaCallbackFunc2, method='BFGS', bounds=bound, options={'maxiter':100}) \n",
    "    xlogAll += [xlog]\n",
    "    reslogAll += [reslog]"
   ]
  },
  {
   "cell_type": "code",
   "execution_count": 17,
   "metadata": {},
   "outputs": [
    {
     "data": {
      "image/png": "[encoded data removed]",
      "text/plain": [
       "<Figure size 432x288 with 1 Axes>"
      ]
     },
     "metadata": {
      "needs_background": "light"
     },
     "output_type": "display_data"
    },
    {
     "name": "stdout",
     "output_type": "stream",
     "text": [
      "Wall time: 165 ms\n"
     ]
    }
   ],
   "source": [
    "%%time\n",
    "df = pd.DataFrame(reslogAll).transpose()\n",
    "x = range(1,len(df)+1)\n",
    "plt.figure()\n",
    "plt.title('10 Iterations by 10 Inital Points - Banana Function')\n",
    "plt.xlabel('Iterations')\n",
    "plt.ylabel('Objective Function Value')\n",
    "for i in range(10):\n",
    "    plt.plot(x,df[i],color='black',linewidth=.5)\n",
    "plt.show()"
   ]
  },
  {
   "cell_type": "code",
   "execution_count": 18,
   "metadata": {},
   "outputs": [],
   "source": [
    "def findMinXandRes(reslogAll):\n",
    "    im,jm=0,0\n",
    "    rmin = np.inf\n",
    "    for i in range(len(reslogAll)):\n",
    "        for j in range(len(reslogAll[i])):\n",
    "            if rmin > reslogAll[i][j]:\n",
    "                rmin = reslogAll[i][j]\n",
    "                im = i\n",
    "                jm = j\n",
    "\n",
    "    return im,jm,rmin"
   ]
  },
  {
   "cell_type": "code",
   "execution_count": 19,
   "metadata": {},
   "outputs": [
    {
     "name": "stdout",
     "output_type": "stream",
     "text": [
      "Miminum in all iterations is 6.2964742729340685e-12 at [0.9999975894561844, 0.9999952486141469]\n"
     ]
    }
   ],
   "source": [
    "im,jm,rmin = findMinXandRes(reslogAll)\n",
    "print('Miminum in all iterations is',rmin,'at',xlogAll[im][jm])"
   ]
  },
  {
   "cell_type": "markdown",
   "metadata": {},
   "source": [
    "#### Ex2-1.1.3. Observations"
   ]
  },
  {
   "cell_type": "markdown",
   "metadata": {},
   "source": [
    "- Global minimum was easily found by any inital points within 5 iterations."
   ]
  },
  {
   "cell_type": "markdown",
   "metadata": {},
   "source": [
    "<br>"
   ]
  },
  {
   "cell_type": "markdown",
   "metadata": {},
   "source": [
    "### Ex2-1.2. Eggcrate Function"
   ]
  },
  {
   "cell_type": "markdown",
   "metadata": {},
   "source": [
    "- I will use Quasi-Newton (BFGS: Broydon-Fletcher-Goldfarb-Shanno) as recommended by Lecture 12 slide.\n",
    "\n",
    "- Maximum number of iterations to be 100."
   ]
  },
  {
   "cell_type": "markdown",
   "metadata": {},
   "source": [
    "#### Ex2-1.2.1. One Initial Point"
   ]
  },
  {
   "cell_type": "code",
   "execution_count": 20,
   "metadata": {},
   "outputs": [],
   "source": [
    "np.random.seed(1)\n",
    "x00_egg = np.random.rand(10,2)*4*math.pi - 2*math.pi"
   ]
  },
  {
   "cell_type": "code",
   "execution_count": 21,
   "metadata": {
    "scrolled": true
   },
   "outputs": [
    {
     "name": "stdout",
     "output_type": "stream",
     "text": [
      "Iter    X1          X2         f(X)     \n",
      "   1   -0.131906    3.205136    10.823566\n",
      "   2    0.128119    2.996195    9.926522\n",
      "   3   -0.028583    2.983535    9.542089\n",
      "   4   -0.000654    3.031244    9.491638\n",
      "   5    0.000682    3.019081    9.488216\n",
      "   6   -0.000048    3.019595    9.488197\n",
      "   7    0.000001    3.019603    9.488197\n",
      "   8   -0.000000    3.019602    9.488197\n"
     ]
    },
    {
     "name": "stderr",
     "output_type": "stream",
     "text": [
      "C:\\Users\\daydr\\AppData\\Roaming\\Python\\Python36\\site-packages\\scipy\\optimize\\_minimize.py:518: RuntimeWarning: Method BFGS cannot handle constraints nor bounds.\n",
      "  RuntimeWarning)\n"
     ]
    }
   ],
   "source": [
    "x0 = x00_egg[0]\n",
    "b = (-2*math.pi,2*math.pi)\n",
    "bound = (b,b)\n",
    "Nfeval = 1\n",
    "xlog = []\n",
    "reslog = []\n",
    "\n",
    "# Quasi-Newton (BFGS: Broydon-Fletcher-Goldfarb-Shanno) as recommended by Lecture 12 slide.\n",
    "print('{0:4s}   {1:9s}   {2:9s}   {3:9s}'.format('Iter', ' X1', ' X2',  'f(X)')  )\n",
    "sol = minimize(eggcrateFunc, x0, callback=eggcrateCallbackFunc, method='BFGS', bounds=bound, options={'maxiter':100}) "
   ]
  },
  {
   "cell_type": "code",
   "execution_count": 22,
   "metadata": {},
   "outputs": [
    {
     "data": {
      "image/png": "[encoded data removed]",
      "text/plain": [
       "<Figure size 432x288 with 1 Axes>"
      ]
     },
     "metadata": {
      "needs_background": "light"
     },
     "output_type": "display_data"
    }
   ],
   "source": [
    "plt.figure()\n",
    "plt.plot(range(1,len(reslog)+1),reslog)\n",
    "plt.xlabel('Iterations')\n",
    "plt.ylabel('Objective Function Value')\n",
    "plt.show()"
   ]
  },
  {
   "cell_type": "code",
   "execution_count": 23,
   "metadata": {},
   "outputs": [
    {
     "name": "stdout",
     "output_type": "stream",
     "text": [
      "Iteration minimum is 9.48819733910627 at [-4.335399755441035e-09, 3.019601863708153]\n"
     ]
    }
   ],
   "source": [
    "rmin = np.min(reslog)\n",
    "xmin = xlog[reslog.index(rmin)]\n",
    "print('Iteration minimum is',rmin,'at',xmin)"
   ]
  },
  {
   "cell_type": "markdown",
   "metadata": {},
   "source": [
    "- Failed to find global minimum."
   ]
  },
  {
   "cell_type": "markdown",
   "metadata": {},
   "source": [
    "#### Ex2-1.2.2. Ten Initial Points"
   ]
  },
  {
   "cell_type": "code",
   "execution_count": 24,
   "metadata": {},
   "outputs": [],
   "source": [
    "b = (-2*math.pi,2*math.pi)\n",
    "bound = (b,b)\n",
    "xlogAll = []\n",
    "reslogAll=[]\n",
    "\n",
    "for i in range(10):\n",
    "    x0 = x00_egg[i]\n",
    " \n",
    "    xlog = []\n",
    "    reslog=[]\n",
    "    sol = minimize(eggcrateFunc, x0, callback=eggcrateCallbackFunc2, method='BFGS', bounds=bound, options={'maxiter':100}) \n",
    "    xlogAll += [xlog]\n",
    "    reslogAll += [reslog]"
   ]
  },
  {
   "cell_type": "code",
   "execution_count": 25,
   "metadata": {},
   "outputs": [
    {
     "data": {
      "image/png": "[encoded data removed]",
      "text/plain": [
       "<Figure size 432x288 with 1 Axes>"
      ]
     },
     "metadata": {
      "needs_background": "light"
     },
     "output_type": "display_data"
    },
    {
     "name": "stdout",
     "output_type": "stream",
     "text": [
      "Wall time: 161 ms\n"
     ]
    }
   ],
   "source": [
    "%%time\n",
    "df = pd.DataFrame(reslogAll).transpose()\n",
    "x = range(1,len(df)+1)\n",
    "plt.figure()\n",
    "plt.title('10 Iterations by 10 Inital Points - Eggcrate Function')\n",
    "plt.xlabel('Iterations')\n",
    "plt.ylabel('Objective Function Value')\n",
    "for i in range(10):\n",
    "    plt.plot(x,df[i],color='black',linewidth=.5)\n",
    "plt.show()"
   ]
  },
  {
   "cell_type": "code",
   "execution_count": 26,
   "metadata": {},
   "outputs": [
    {
     "name": "stdout",
     "output_type": "stream",
     "text": [
      "Miminum in all iterations is 7.08902739354229e-14 at [1.8300232877087893e-08, -4.890450361838487e-08]\n"
     ]
    }
   ],
   "source": [
    "im,jm,rmin = findMinXandRes(reslogAll)\n",
    "print('Miminum in all iterations is',rmin,'at',xlogAll[im][jm])"
   ]
  },
  {
   "cell_type": "markdown",
   "metadata": {},
   "source": [
    "#### Ex2-1.2.3. Observations"
   ]
  },
  {
   "cell_type": "markdown",
   "metadata": {},
   "source": [
    "- Out of 10 inital points, only 2 found the global miminim and others were trapped by local minimum."
   ]
  },
  {
   "cell_type": "markdown",
   "metadata": {},
   "source": [
    "<br>"
   ]
  },
  {
   "cell_type": "markdown",
   "metadata": {},
   "source": [
    "### Ex2-1.3. Golinski's Speed Function"
   ]
  },
  {
   "cell_type": "markdown",
   "metadata": {},
   "source": [
    "- I will use SQP (SLSQP: Sequential Least SQuares Programming) as recommended by Lecture 12 slide.\n",
    "- Maximum number of iterations to be 100.\n",
    "- Objective function has penalty +10000 if they has off-constraint solution."
   ]
  },
  {
   "cell_type": "markdown",
   "metadata": {},
   "source": [
    "#### Ex2-1.3.1. One Initial Point"
   ]
  },
  {
   "cell_type": "code",
   "execution_count": 27,
   "metadata": {},
   "outputs": [],
   "source": [
    "np.random.seed(2)\n",
    "x00_golSR = np.random.rand(100,7)\n",
    "for i in range(100):\n",
    "    x00_golSR[i][0] += 2.6\n",
    "    x00_golSR[i][1] /= 10.0\n",
    "    x00_golSR[i][1] += 0.7\n",
    "    x00_golSR[i][1] /= 10.0\n",
    "    x00_golSR[i][2] *= 11.0\n",
    "    x00_golSR[i][2] += 17.0\n",
    "    x00_golSR[i][2] = round(x00_golSR[i][2])\n",
    "    x00_golSR[i][3] += 7.3\n",
    "    x00_golSR[i][4] += 7.3\n",
    "    x00_golSR[i][5] += 2.9\n",
    "    x00_golSR[i][6] /= 2.0\n",
    "    x00_golSR[i][6] += 5.0"
   ]
  },
  {
   "cell_type": "code",
   "execution_count": 28,
   "metadata": {
    "scrolled": true
   },
   "outputs": [
    {
     "name": "stdout",
     "output_type": "stream",
     "text": [
      "Iter    X1          X2         X3          X4          X5          X6         X7        f(X)     \n",
      "   1    3.438471    0.700000    17.000000   7.300000    7.700807    3.341205   5.273928    12959.512952\n",
      "7 out of 11 non-bound constraints satisfied.\n",
      "\n",
      "\n",
      "   2    3.498918    0.700000    17.000000   7.300000    7.715252    3.350166   5.286592    12993.889647\n",
      "7 out of 11 non-bound constraints satisfied.\n",
      "\n",
      "\n",
      "   3    3.499999    0.700000    17.000000   7.300000    7.715320    3.350214   5.286654    12994.366946\n",
      "8 out of 11 non-bound constraints satisfied.\n",
      "\n",
      "\n",
      "   4    3.499999    0.700000    17.000000   7.300000    7.715320    3.350214   5.286652    12994.365632\n",
      "8 out of 11 non-bound constraints satisfied.\n",
      "\n",
      "\n",
      "   5    3.499998    0.700000    17.000000   7.300000    7.715320    3.350213   5.286647    12994.362270\n",
      "8 out of 11 non-bound constraints satisfied.\n",
      "\n",
      "\n",
      "   6    3.499996    0.700000    17.000000   7.300000    7.715320    3.350212   5.286654    12994.365737\n",
      "8 out of 11 non-bound constraints satisfied.\n",
      "\n",
      "\n",
      "   7    3.499999    0.700000    17.000000   7.300000    7.715320    3.350214   5.286652    12994.365632\n",
      "8 out of 11 non-bound constraints satisfied.\n",
      "\n",
      "\n",
      "   8    3.499999    0.700000    17.000000   7.300000    7.715320    3.350214   5.286654    12994.366939\n",
      "8 out of 11 non-bound constraints satisfied.\n",
      "\n",
      "\n"
     ]
    }
   ],
   "source": [
    "x0 = x00_golSR[0]\n",
    "\n",
    "bound = ( \n",
    "    (2.6,3.6),\n",
    "    (0.7,0.8),\n",
    "    (17,28),\n",
    "    (7.3,8.3),\n",
    "    (7.3,8.3),\n",
    "    (2.9,3.9),\n",
    "    (5.0,5.5)\n",
    ")\n",
    "con = [\n",
    "    {'type': 'ineq','fun': constGSR1},\n",
    "    {'type': 'ineq','fun': constGSR2},\n",
    "    {'type': 'ineq','fun': constGSR3},\n",
    "    {'type': 'ineq','fun': constGSR4},\n",
    "    {'type': 'ineq','fun': constGSR5},\n",
    "    {'type': 'ineq','fun': constGSR6},\n",
    "    {'type': 'ineq','fun': constGSR7},\n",
    "    {'type': 'ineq','fun': constGSR8},\n",
    "    {'type': 'ineq','fun': constGSR9},\n",
    "    {'type': 'ineq','fun': constGSR24},\n",
    "    {'type': 'ineq','fun': constGSR25},\n",
    "]\n",
    "Nfeval = 1\n",
    "xlog = []\n",
    "reslog = []\n",
    "\n",
    "# SLSQP: Sequential Least SQuares Programming as recommended by Lecture 12 slide.\n",
    "print('{0:4s}   {1:9s}   {2:9s}   {3:9s}  {4:9s}   {5:9s}   {6:9s}  {7:9s}  {8:9s}'\\\n",
    "      .format('Iter', ' X1', ' X2', 'X3',' X4', ' X5',' X6', ' X7', 'f(X)')  )\n",
    "sol = minimize(golSRFunc, x0, callback=golSRCallbackFunc, method='SLSQP', bounds=bound, \n",
    "               constraints=con, options={'maxiter':100}) "
   ]
  },
  {
   "cell_type": "code",
   "execution_count": 29,
   "metadata": {},
   "outputs": [
    {
     "data": {
      "image/png": "[encoded data removed]",
      "text/plain": [
       "<Figure size 432x288 with 1 Axes>"
      ]
     },
     "metadata": {
      "needs_background": "light"
     },
     "output_type": "display_data"
    }
   ],
   "source": [
    "plt.figure()\n",
    "plt.plot(range(1,len(reslog)+1),reslog)\n",
    "plt.xlabel('Iterations')\n",
    "plt.ylabel('Objective Function Value')\n",
    "plt.show()"
   ]
  },
  {
   "cell_type": "code",
   "execution_count": 30,
   "metadata": {},
   "outputs": [
    {
     "name": "stdout",
     "output_type": "stream",
     "text": [
      "Iteration minimum is 12959.512952080884 at [3.4384712665300117, 0.7, 17.0, 7.3, 7.700806752351609, 3.3412052698950223, 5.273928170181345]\n"
     ]
    }
   ],
   "source": [
    "rmin = np.min(reslog)\n",
    "xmin = xlog[reslog.index(rmin)]\n",
    "print('Iteration minimum is',rmin,'at',xmin)"
   ]
  },
  {
   "cell_type": "markdown",
   "metadata": {},
   "source": [
    "Failed to find the on-constraint solution."
   ]
  },
  {
   "cell_type": "markdown",
   "metadata": {},
   "source": [
    "#### Ex2-1.3.2. Hundred Initial Points\n",
    "\n",
    "- Since this function have very limited solution space, I increased the number of random initial points to 100."
   ]
  },
  {
   "cell_type": "code",
   "execution_count": 31,
   "metadata": {},
   "outputs": [],
   "source": [
    "bound = ( \n",
    "    (2.6,3.6),\n",
    "    (0.7,0.8),\n",
    "    (17,28),\n",
    "    (7.3,8.3),\n",
    "    (7.3,8.3),\n",
    "    (2.9,3.9),\n",
    "    (5.0,5.5)\n",
    ")\n",
    "con = [\n",
    "    {'type': 'ineq','fun': constGSR1},\n",
    "    {'type': 'ineq','fun': constGSR2},\n",
    "    {'type': 'ineq','fun': constGSR3},\n",
    "    {'type': 'ineq','fun': constGSR4},\n",
    "    {'type': 'ineq','fun': constGSR5},\n",
    "    {'type': 'ineq','fun': constGSR6},\n",
    "    {'type': 'ineq','fun': constGSR7},\n",
    "    {'type': 'ineq','fun': constGSR8},\n",
    "    {'type': 'ineq','fun': constGSR9},\n",
    "    {'type': 'ineq','fun': constGSR24},\n",
    "    {'type': 'ineq','fun': constGSR25},\n",
    "]\n",
    "xlogAll = []\n",
    "reslogAll=[]\n",
    "\n",
    "for i in range(100):\n",
    "    x0 = x00_golSR[i]\n",
    "    \n",
    "    xlog = []\n",
    "    reslog=[]\n",
    "    sol = minimize(golSRFunc, x0, callback=golSRCallbackFunc2, method='SLSQP', bounds=bound, \n",
    "                   constraints=con, \n",
    "                   options={'maxiter':100}) \n",
    "    xlogAll += [xlog]\n",
    "    reslogAll += [reslog]"
   ]
  },
  {
   "cell_type": "code",
   "execution_count": 32,
   "metadata": {},
   "outputs": [
    {
     "data": {
      "image/png": "[encoded data removed]",
      "text/plain": [
       "<Figure size 432x288 with 1 Axes>"
      ]
     },
     "metadata": {
      "needs_background": "light"
     },
     "output_type": "display_data"
    },
    {
     "name": "stdout",
     "output_type": "stream",
     "text": [
      "Wall time: 429 ms\n"
     ]
    }
   ],
   "source": [
    "%%time\n",
    "df = pd.DataFrame(reslogAll).transpose()\n",
    "x = range(1,len(df)+1)\n",
    "plt.figure()\n",
    "plt.title('100 Iterations by 100 Inital Points - Golinski Speed Reducer')\n",
    "plt.xlabel('Iterations')\n",
    "plt.ylabel('Objective Function Value')\n",
    "for i in range(100):\n",
    "    plt.plot(x,df[i],color='black',linewidth=.5)\n",
    "plt.show()"
   ]
  },
  {
   "cell_type": "code",
   "execution_count": 33,
   "metadata": {},
   "outputs": [
    {
     "name": "stdout",
     "output_type": "stream",
     "text": [
      "Miminum in all iterations is 2994.3680843254306 at [3.500000208312108, 0.7, 17.0, 7.3, 7.715319995101832, 3.3502146694725483, 5.286654472471744]\n"
     ]
    }
   ],
   "source": [
    "im,jm,rmin = findMinXandRes(reslogAll)\n",
    "print('Miminum in all iterations is',rmin,'at',xlogAll[im][jm])"
   ]
  },
  {
   "cell_type": "markdown",
   "metadata": {},
   "source": [
    "#### Ex2-1.3.3. Observations"
   ]
  },
  {
   "cell_type": "markdown",
   "metadata": {},
   "source": [
    "- Even I ran the 100 simulations, pretty limited inital points had on-constraint solutions and even they found any, the iteration went back off-constraint quickly."
   ]
  },
  {
   "cell_type": "markdown",
   "metadata": {},
   "source": [
    "<hr style=\"border-width: thick\">"
   ]
  }
 ],
 "metadata": {
  "kernelspec": {
   "display_name": "Python 3",
   "language": "python",
   "name": "python3"
  },
  "language_info": {
   "codemirror_mode": {
    "name": "ipython",
    "version": 3
   },
   "file_extension": ".py",
   "mimetype": "text/x-python",
   "name": "python",
   "nbconvert_exporter": "python",
   "pygments_lexer": "ipython3",
   "version": "3.6.8"
  }
 },
 "nbformat": 4,
 "nbformat_minor": 2
}
