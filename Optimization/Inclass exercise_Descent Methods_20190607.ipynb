{
 "cells": [
  {
   "cell_type": "markdown",
   "metadata": {},
   "source": [
    "# In-class exercise at 2019/06/07\n",
    "\n",
    "Code the Steepest Decsent algorithm and Descent Method to obtain the minimum of J = x1^2 + x2^2\n",
    "\n"
   ]
  },
  {
   "cell_type": "code",
   "execution_count": 86,
   "metadata": {},
   "outputs": [],
   "source": [
    "import numpy as np"
   ]
  },
  {
   "cell_type": "code",
   "execution_count": 77,
   "metadata": {},
   "outputs": [],
   "source": [
    "#initialize starting point\n",
    "mu = 5\n",
    "sigma = 5\n",
    "ep = 0.5"
   ]
  },
  {
   "cell_type": "code",
   "execution_count": 40,
   "metadata": {},
   "outputs": [],
   "source": [
    "x0 = sigma * np.random.randn(1,2) + mu"
   ]
  },
  {
   "cell_type": "code",
   "execution_count": 102,
   "metadata": {},
   "outputs": [
    {
     "data": {
      "text/plain": [
       "array([[0.82429679, 1.67037909]])"
      ]
     },
     "execution_count": 102,
     "metadata": {},
     "output_type": "execute_result"
    }
   ],
   "source": [
    "x0"
   ]
  },
  {
   "cell_type": "code",
   "execution_count": 163,
   "metadata": {},
   "outputs": [],
   "source": [
    "def objfunc(x):\n",
    "    return x[0]**2 + x[1]**2"
   ]
  },
  {
   "cell_type": "markdown",
   "metadata": {},
   "source": [
    "### Steepest Descent"
   ]
  },
  {
   "cell_type": "code",
   "execution_count": 167,
   "metadata": {},
   "outputs": [
    {
     "name": "stdout",
     "output_type": "stream",
     "text": [
      "Number of inner sims: 100\n",
      "Number of inner sims: 100\n",
      "Number of inner sims: 100\n",
      "\n",
      "No more smaller objective value in naghborhood.\n",
      "Number of outer iterations: 3 \n",
      "\n",
      "\n",
      "Initial x vector: [0.824, 1.67]\n",
      "Initial obj function val: 3.46963\n",
      "\n",
      "Final x vector: [0.055, 0.017]\n",
      "Final obj function val: 0.00336\n",
      "Wall time: 5.98 ms\n"
     ]
    }
   ],
   "source": [
    "%%time\n",
    "# Steepest Descent\n",
    "x[:] = x0[:] #Refresh to original initial point\n",
    "minm = objfunc(x[0])\n",
    "# %debug\n",
    "for _ in range(100): #Itration \n",
    "    xnls = []\n",
    "    objls = []\n",
    "    nomore = True\n",
    "    for __ in range(100): #Finding neibor with smallest objective value\n",
    "        xn = ep * np.random.randn(1,2)\n",
    "        xnn = x + xn\n",
    "        if (objfunc(xnn[0])<minm):\n",
    "            minm = objfunc(xnn[0])\n",
    "            x[:] = xnn[:]\n",
    "            nomore = False\n",
    "    print('Number of inner sims:',__+1)\n",
    "    \n",
    "    if (nomore == True):\n",
    "        print('\\nNo more smaller objective value in naghborhood.')\n",
    "        print('Number of outer iterations:',_+1,'\\n')\n",
    "        break \n",
    "\n",
    "print()\n",
    "print('Initial x vector:',[np.round(x0[0][0],3),np.round(x0[0][1],3)])\n",
    "print('Initial obj function val:',np.round(objfunc(x0[0]),5))\n",
    "print()\n",
    "print('Final x vector:',[np.round(x[0][0],3),np.round(x[0][1],3)])\n",
    "print('Final obj function val:',np.round(objfunc(x[0]),5))"
   ]
  },
  {
   "cell_type": "markdown",
   "metadata": {},
   "source": [
    "### Descent Method"
   ]
  },
  {
   "cell_type": "code",
   "execution_count": 168,
   "metadata": {},
   "outputs": [
    {
     "name": "stdout",
     "output_type": "stream",
     "text": [
      "Number of inner sims: 4\n",
      "Number of inner sims: 3\n",
      "Number of inner sims: 1\n",
      "Number of inner sims: 1\n",
      "Number of inner sims: 3\n",
      "Number of inner sims: 1\n",
      "Number of inner sims: 4\n",
      "Number of inner sims: 14\n",
      "Number of inner sims: 68\n",
      "Number of inner sims: 43\n",
      "Number of inner sims: 5\n",
      "Number of inner sims: 100\n",
      "\n",
      "No more smaller objective value in naghborhood.\n",
      "Number of outer iterations: 12 \n",
      "\n",
      "\n",
      "Initial x vector: [0.824, 1.67]\n",
      "Initial obj function val: 3.46963\n",
      "\n",
      "Final x vector: [-0.061, -0.043]\n",
      "Final obj function val: 0.00557\n",
      "Wall time: 3.99 ms\n"
     ]
    }
   ],
   "source": [
    "%%time\n",
    "# Descent Method\n",
    "x[:] = x0[:] #Refresh to original initial point\n",
    "minm = objfunc(x[0])\n",
    "# %debug\n",
    "for _ in range(100): #Itration \n",
    "    xnls = []\n",
    "    objls = []\n",
    "    nomore = True\n",
    "    for __ in range(100): #Finding neibor with smallest objective value\n",
    "        xn = ep * np.random.randn(1,2)\n",
    "        xnn = x + xn\n",
    "        if (objfunc(xnn[0])<minm):\n",
    "            minm = objfunc(xnn[0])\n",
    "            x[:] = xnn[:]\n",
    "            nomore = False\n",
    "            break  ## JUST ADDED THIS LINE\n",
    "    print('Number of inner sims:',__+1)\n",
    "    \n",
    "    if (nomore == True):\n",
    "        print('\\nNo more smaller objective value in naghborhood.')\n",
    "        print('Number of outer iterations:',_+1,'\\n')\n",
    "        break \n",
    "\n",
    "print()\n",
    "print('Initial x vector:',[np.round(x0[0][0],3),np.round(x0[0][1],3)])\n",
    "print('Initial obj function val:',np.round(objfunc(x0[0]),5))\n",
    "print()\n",
    "print('Final x vector:',[np.round(x[0][0],3),np.round(x[0][1],3)])\n",
    "print('Final obj function val:',np.round(objfunc(x[0]),5))"
   ]
  },
  {
   "cell_type": "markdown",
   "metadata": {},
   "source": [
    "### Decomposition Method"
   ]
  },
  {
   "cell_type": "code",
   "execution_count": null,
   "metadata": {},
   "outputs": [],
   "source": []
  }
 ],
 "metadata": {
  "kernelspec": {
   "display_name": "Python 3",
   "language": "python",
   "name": "python3"
  },
  "language_info": {
   "codemirror_mode": {
    "name": "ipython",
    "version": 3
   },
   "file_extension": ".py",
   "mimetype": "text/x-python",
   "name": "python",
   "nbconvert_exporter": "python",
   "pygments_lexer": "ipython3",
   "version": "3.6.8"
  }
 },
 "nbformat": 4,
 "nbformat_minor": 2
}
